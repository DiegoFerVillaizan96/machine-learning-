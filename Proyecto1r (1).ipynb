{
  "nbformat": 4,
  "nbformat_minor": 0,
  "metadata": {
    "colab": {
      "provenance": [],
      "collapsed_sections": []
    },
    "kernelspec": {
      "name": "python3",
      "display_name": "Python 3"
    },
    "language_info": {
      "name": "python"
    }
  },
  "cells": [
    {
      "cell_type": "markdown",
      "source": [
        "# Proyecto I\n",
        "\n",
        "*  DIEGO FERNANDO VILLAIZAN MELO\n",
        "*  MARIA FERNANDA MORA GUERRA\n",
        "*  JESUS ANTONIO REYES ACOSTA\n",
        "\n",
        "\n",
        "Construya un objeto que permita manipular una tabla de datos haciendo uso ÚNICAMENTE de python base"
      ],
      "metadata": {
        "id": "0yosbsaufScg"
      }
    },
    {
      "cell_type": "code",
      "source": [
        "from abc import abstractmethod\n",
        "class tabla_prueba:\n",
        "  \n",
        "  def __init__(self,vec:list):\n",
        "    self.tabla = vec\n",
        "    self.tamano = (len(self.tabla)-1,len(self.tabla[0]))\n",
        "    self.nombre_columnas = self.tabla[0]\n",
        "    tipos_datos = []\n",
        "    self.tipo_datos = [type(elemento) for elemento in self.tabla[1]]\n",
        "\n",
        "  def verificacion_tamano(self):\n",
        "    errores = []\n",
        "    for fila in self.tabla:\n",
        "      if len(fila) != self.tamano[1]:\n",
        "        errores.append(fila)\n",
        "      else:\n",
        "        None\n",
        "    if len(errores) == 0:\n",
        "      print(f'Las filas tienen el mismo numero de datos')\n",
        "    else:\n",
        "      print(f'existe un eor de diferencia {errores}')                  \n",
        "\n",
        "  def actualizar_tamano(self):\n",
        "    self.tamano = (len(self.tabla)-1,len(self.tabla[0]))\n",
        "    \n",
        "  def acceder_columna(self,columna:int):\n",
        "    if type(columna)==int and self.tamano[1]>=columna>=0:\n",
        "      return [[col[columna]] for col in self.tabla]\n",
        "    else:\n",
        "      print(f'Columna No Valida')\n",
        "  \n",
        "  def acceder_fila(self,fila:int):\n",
        "    if type(fila)==int and self.tamano[0]-1>=fila>=0:   \n",
        "      return self.tabla[1:][fila] \n",
        "    else:\n",
        "      print(f'Fila No valida')\n",
        "\n",
        "  def agregar_columna(self,nueva_col:list):\n",
        "    if len(nueva_col)==self.tamano[0] + 1:\n",
        "      nueva_tabla = []\n",
        "      for elemento in nueva_col:\n",
        "        nueva_tabla.append(self.tabla[nueva_col.index(elemento)] + [elemento])\n",
        "      self.tabla = nueva_tabla\n",
        "      self.actualizar_tamano()\n",
        "    else:\n",
        "      print('los elementos en la columa no coinciden')\n",
        "\n",
        "  def eliminar_columna(self,columna:int):\n",
        "    if columna<=self.tamano[1]-1:\n",
        "      nueva_tabla = []\n",
        "      for fila in self.tabla:\n",
        "        nueva_fila = fila\n",
        "        nueva_fila.pop(columna)\n",
        "        nueva_tabla.append(nueva_fila)\n",
        "    else: \n",
        "      print(f'Columna no valida.')\n",
        "    self.actualizar_tamano()\n",
        "\n",
        "  def agregar_fila(self,nueva_fila:list):\n",
        "    if len(nueva_fila)==self.tamano[1]:\n",
        "      self.tabla.append(nueva_fila)\n",
        "      self.actualizar_tamano()\n",
        "    else:\n",
        "      print(f'El numero de elementos de la nueva fila no coincide')\n",
        "  \n",
        "  def eliminar_fila(self,fila:int):\n",
        "    if type(fila)==int and self.tamano[0]-1>=fila>=0:   \n",
        "      self.tabla.pop(fila+1)\n",
        "      self.actualizar_tamano()\n",
        "    else:\n",
        "      print('Fila no valida')\n",
        "\n",
        "  def operacion_escalar(self,operacion:str):\n",
        "    nueva_tabla = self.tabla[:1]\n",
        "    for fila in self.tabla[1:]:\n",
        "      nueva_fila = []\n",
        "      for elemento in fila:\n",
        "        op = str(elemento) + operacion\n",
        "        nueva_fila.append(eval(op))\n",
        "      nueva_tabla.append(nueva_fila)\n",
        "    self.tabla = nueva_tabla\n",
        "\n",
        "  def opreacion_columnas(self,operacion):\n",
        "    try:\n",
        "      elementos = operacion.split(' ')\n",
        "      col1 = self.tabla[0].index(elementos[0])\n",
        "      col2 = self.tabla[0].index(elementos[2])\n",
        "      op = 'i' + elementos[1] + 'j'\n",
        "      valores = [(i[0],j[0]) for (i,j) in zip(self.acceder_columna(col1)[1:],self.acceder_columna(col2)[1:])]\n",
        "      return [[operacion]] + [[eval(op)] for (i,j) in valores ]\n",
        "\n",
        "    except: \n",
        "      print(f'Syntaxis no valida')\n",
        "\n",
        "  def imprimir_tabla(self):\n",
        "    return print(self.tabla)\n",
        "\n",
        "  def ordenar_tabla(tipo_orden='mayor a menor'):\n",
        "    test = tabla_prueba ([['costo','utilidad'],\n",
        "                        [500,1000],\n",
        "                        [450,900],\n",
        "                        [400,800]])\n",
        "  "
      ],
      "metadata": {
        "id": "V6SuBUmF4Ntj"
      },
      "execution_count": null,
      "outputs": []
    },
    {
      "cell_type": "code",
      "source": [
        "test = tabla_prueba ([['costo','utilidad'],\n",
        "                        [500,1000],\n",
        "                        [450,900],\n",
        "                        [400,800]])\n",
        "  "
      ],
      "metadata": {
        "id": "0GnVKmVY6r0Q"
      },
      "execution_count": null,
      "outputs": []
    },
    {
      "cell_type": "markdown",
      "source": [
        "\n",
        "\n",
        "**Tamaño de la tabla:**\n",
        "\n",
        "\n",
        "\n"
      ],
      "metadata": {
        "id": "98-lNKVt7195"
      }
    },
    {
      "cell_type": "code",
      "source": [
        "test.tamano"
      ],
      "metadata": {
        "colab": {
          "base_uri": "https://localhost:8080/"
        },
        "id": "0t7VF-Fj7vj-",
        "outputId": "c62d50db-1f7a-47ab-eab1-6a3f598ee7b0"
      },
      "execution_count": null,
      "outputs": [
        {
          "output_type": "execute_result",
          "data": {
            "text/plain": [
              "(3, 2)"
            ]
          },
          "metadata": {},
          "execution_count": 3
        }
      ]
    },
    {
      "cell_type": "markdown",
      "source": [
        "**Nombre de las columnas:**\n"
      ],
      "metadata": {
        "id": "HYmGC7vW9M-c"
      }
    },
    {
      "cell_type": "code",
      "source": [
        "test.nombre_columnas"
      ],
      "metadata": {
        "colab": {
          "base_uri": "https://localhost:8080/"
        },
        "id": "NodG2sFd9V48",
        "outputId": "cd4076bf-daca-4b4c-fcf1-c03171e5f341"
      },
      "execution_count": null,
      "outputs": [
        {
          "output_type": "execute_result",
          "data": {
            "text/plain": [
              "['costo', 'utilidad']"
            ]
          },
          "metadata": {},
          "execution_count": 4
        }
      ]
    },
    {
      "cell_type": "markdown",
      "source": [
        "**Tipos de datos columna:**"
      ],
      "metadata": {
        "id": "gZiniXi09bUd"
      }
    },
    {
      "cell_type": "code",
      "source": [
        "test.tipo_datos"
      ],
      "metadata": {
        "colab": {
          "base_uri": "https://localhost:8080/"
        },
        "id": "Z0oKQQob9kUU",
        "outputId": "b4d96210-0e91-4359-c60b-9b16d6096d4c"
      },
      "execution_count": null,
      "outputs": [
        {
          "output_type": "execute_result",
          "data": {
            "text/plain": [
              "[int, int]"
            ]
          },
          "metadata": {},
          "execution_count": 5
        }
      ]
    },
    {
      "cell_type": "markdown",
      "source": [
        "**Verificacion de los elementos de las filas:**"
      ],
      "metadata": {
        "id": "mJgXm6LY9pcE"
      }
    },
    {
      "cell_type": "code",
      "source": [
        "test.verificacion_tamano()"
      ],
      "metadata": {
        "colab": {
          "base_uri": "https://localhost:8080/"
        },
        "id": "cS_F_esN9vPu",
        "outputId": "5f32dfd3-8f13-42ca-fa83-185e47355112"
      },
      "execution_count": null,
      "outputs": [
        {
          "output_type": "stream",
          "name": "stdout",
          "text": [
            "Las filas tienen el mismo numero de datos\n"
          ]
        }
      ]
    },
    {
      "cell_type": "markdown",
      "source": [
        "**Acceder a una columna:**"
      ],
      "metadata": {
        "id": "AJFsW0vn95qW"
      }
    },
    {
      "cell_type": "code",
      "source": [
        "test.acceder_columna(1)"
      ],
      "metadata": {
        "colab": {
          "base_uri": "https://localhost:8080/"
        },
        "id": "dDr0pqrH9_st",
        "outputId": "966746c1-fced-4805-b43c-fa7f340569d5"
      },
      "execution_count": null,
      "outputs": [
        {
          "output_type": "execute_result",
          "data": {
            "text/plain": [
              "[['utilidad'], [1000], [900], [800]]"
            ]
          },
          "metadata": {},
          "execution_count": 7
        }
      ]
    },
    {
      "cell_type": "markdown",
      "source": [
        "**Acceder a una fila:**\n"
      ],
      "metadata": {
        "id": "NTuSNFYL-Fvm"
      }
    },
    {
      "cell_type": "code",
      "source": [
        "test.acceder_fila(2)"
      ],
      "metadata": {
        "colab": {
          "base_uri": "https://localhost:8080/"
        },
        "id": "THlr0Qma-Lpd",
        "outputId": "4441337b-9ee4-4704-c647-126a9169931b"
      },
      "execution_count": null,
      "outputs": [
        {
          "output_type": "execute_result",
          "data": {
            "text/plain": [
              "[400, 800]"
            ]
          },
          "metadata": {},
          "execution_count": 8
        }
      ]
    },
    {
      "cell_type": "markdown",
      "source": [
        "**Eliminar una columna:**"
      ],
      "metadata": {
        "id": "5oy5R7xk-Sl4"
      }
    },
    {
      "cell_type": "code",
      "source": [
        "test.eliminar_columna(1)\n",
        "test.imprimir_tabla()"
      ],
      "metadata": {
        "colab": {
          "base_uri": "https://localhost:8080/"
        },
        "id": "w8CkUPaQ-XTI",
        "outputId": "8d701fba-5097-4a59-e599-1f7f6625945d"
      },
      "execution_count": null,
      "outputs": [
        {
          "output_type": "stream",
          "name": "stdout",
          "text": [
            "[['costo'], [500], [450], [400]]\n"
          ]
        }
      ]
    },
    {
      "cell_type": "markdown",
      "source": [
        "**Agregar una fila:**"
      ],
      "metadata": {
        "id": "B0UpgFtf-prZ"
      }
    },
    {
      "cell_type": "code",
      "source": [
        "test.agregar_fila([250,7000,42])\n",
        "test.imprimir_tabla()"
      ],
      "metadata": {
        "colab": {
          "base_uri": "https://localhost:8080/"
        },
        "id": "hzNwOoGj-sQy",
        "outputId": "f3229f91-e121-46a8-ce2f-410d3ce12b21"
      },
      "execution_count": null,
      "outputs": [
        {
          "output_type": "stream",
          "name": "stdout",
          "text": [
            "El numero de elementos de la nueva fila no coincide\n",
            "[['costo'], [500], [450], [400]]\n"
          ]
        }
      ]
    },
    {
      "cell_type": "markdown",
      "source": [
        "**Eliminar una fila:**"
      ],
      "metadata": {
        "id": "8t72QhW8-xRq"
      }
    },
    {
      "cell_type": "code",
      "source": [
        "test.eliminar_fila(3)\n",
        "test.imprimir_tabla()\n"
      ],
      "metadata": {
        "colab": {
          "base_uri": "https://localhost:8080/"
        },
        "id": "HomKKxiM-6xk",
        "outputId": "42695fb2-f069-498d-f145-199b9fc9ef79"
      },
      "execution_count": null,
      "outputs": [
        {
          "output_type": "stream",
          "name": "stdout",
          "text": [
            "Fila no valida\n",
            "[['costo'], [500], [450], [400]]\n"
          ]
        }
      ]
    },
    {
      "cell_type": "markdown",
      "source": [
        "**Operaciones con un escalar:**"
      ],
      "metadata": {
        "id": "Np3cmsk1_BYj"
      }
    },
    {
      "cell_type": "code",
      "source": [
        "test.opreacion_columnas('costo / utilidad')"
      ],
      "metadata": {
        "colab": {
          "base_uri": "https://localhost:8080/"
        },
        "id": "znXn1tTd_Lcq",
        "outputId": "29d1d86e-5629-4d08-b8f1-23291919f8ae"
      },
      "execution_count": null,
      "outputs": [
        {
          "output_type": "stream",
          "name": "stdout",
          "text": [
            "Syntaxis no valida\n"
          ]
        }
      ]
    },
    {
      "cell_type": "markdown",
      "source": [
        "**Imprimir datos:**"
      ],
      "metadata": {
        "id": "WpqqnHEBABqX"
      }
    },
    {
      "cell_type": "code",
      "source": [
        "test.imprimir_tabla()"
      ],
      "metadata": {
        "colab": {
          "base_uri": "https://localhost:8080/"
        },
        "id": "z6EVbh7VAFT9",
        "outputId": "14a7a0ca-bdd3-49f0-c733-d252d41c8c01"
      },
      "execution_count": null,
      "outputs": [
        {
          "output_type": "stream",
          "name": "stdout",
          "text": [
            "[['costo'], [500], [450], [400]]\n"
          ]
        }
      ]
    },
    {
      "cell_type": "code",
      "source": [],
      "metadata": {
        "id": "AAB6KnMxAGai"
      },
      "execution_count": null,
      "outputs": []
    }
  ]
}